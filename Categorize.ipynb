{
 "cells": [
  {
   "cell_type": "code",
   "execution_count": 142,
   "metadata": {},
   "outputs": [],
   "source": [
    "import os\n",
    "import pandas as pd\n",
    "import glob\n",
    "import re\n",
    "from shutil import copy2"
   ]
  },
  {
   "cell_type": "code",
   "execution_count": 150,
   "metadata": {},
   "outputs": [],
   "source": [
    "dataset_path = os.path.join(os.getcwd(), 'Dataset')\n",
    "categories = os.path.join(dataset_path, \"categories.txt\")\n",
    "img_cats = pd.read_csv(categories, header = None).set_index(0)"
   ]
  },
  {
   "cell_type": "code",
   "execution_count": 151,
   "metadata": {},
   "outputs": [],
   "source": [
    "def get_photo_category(category):\n",
    "    photos = []\n",
    "    phot_num = 0\n",
    "    img_cats_categorized = img_cats.where(img_cats == category)\n",
    "    img_cats_categorized.dropna(axis = 0, how = 'all', inplace = True)\n",
    "    img_cats_categorized.index[0][1:5]\n",
    "    for i in range(len(img_cats_categorized.index)):\n",
    "        photos.append(int(img_cats_categorized.index[i][1:5]))\n",
    "    return photos\n"
   ]
  },
  {
   "cell_type": "code",
   "execution_count": 152,
   "metadata": {},
   "outputs": [],
   "source": [
    "def category_folder(SourceFolder, DestFolder):\n",
    "    photos = get_photo_category(\"people\")\n",
    "    Orig512 = os.path.join(dataset_path, SourceFolder)\n",
    "    Orig = os.path.join(dataset_path, DestFolder)\n",
    "    files = os.listdir(Orig512)\n",
    "    for i in files:\n",
    "        s = re.findall(r'_(.*).jpg',i)\n",
    "        if int(s[0]) in people:\n",
    "            copy2(os.path.join(Orig512,i),Orig)\n",
    "\n",
    "    "
   ]
  },
  {
   "cell_type": "code",
   "execution_count": null,
   "metadata": {},
   "outputs": [],
   "source": [
    "category_folder(\"Expert_E\", \"ExpE_People\")"
   ]
  },
  {
   "cell_type": "code",
   "execution_count": null,
   "metadata": {
    "collapsed": true
   },
   "outputs": [],
   "source": []
  }
 ],
 "metadata": {
  "kernelspec": {
   "display_name": "Python 3",
   "language": "python",
   "name": "python3"
  },
  "language_info": {
   "codemirror_mode": {
    "name": "ipython",
    "version": 3
   },
   "file_extension": ".py",
   "mimetype": "text/x-python",
   "name": "python",
   "nbconvert_exporter": "python",
   "pygments_lexer": "ipython3",
   "version": "3.5.2"
  }
 },
 "nbformat": 4,
 "nbformat_minor": 2
}
